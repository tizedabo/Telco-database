{
 "cells": [
  {
   "cell_type": "code",
   "execution_count": 13,
   "metadata": {},
   "outputs": [
    {
     "name": "stdout",
     "output_type": "stream",
     "text": [
      "c:\\Users\\meet_\\Documents\\GitHub\\Telco-database\\notebooks\n",
      "c:\\Users\\meet_\\Documents\\GitHub\\Telco-database\n"
     ]
    }
   ],
   "source": [
    "import os\n",
    "import sys\n",
    "import pandas as pd\n",
    "import psycopg2\n",
    "current_dir = os.getcwd()\n",
    "print(current_dir)\n",
    "\n",
    "# Get the parent directory\n",
    "parent_dir = os.path.dirname(current_dir)\n",
    "print(parent_dir)\n",
    "\n",
    "# Insert the path to the parent directory\n",
    "sys.path.insert(0, parent_dir)\n",
    "\n",
    "from DB_connection.myconn import connect_to_postgresql\n",
    "from DB_connection.myconn import read_data\n",
    "from src.utils import missing_values_table, convert_bytes_to_megabytes\n",
    "\n",
    "\n"
   ]
  },
  {
   "cell_type": "code",
   "execution_count": 28,
   "metadata": {},
   "outputs": [
    {
     "name": "stdout",
     "output_type": "stream",
     "text": [
      "             0                1      2                3      4          5   \\\n",
      "0  1.311448e+19   4/4/2019 12:01  770.0  4/25/2019 14:35  662.0  1823652.0   \n",
      "1  1.311448e+19   4/9/2019 13:04  235.0   4/25/2019 8:15  606.0  1365104.0   \n",
      "2  1.311448e+19   4/9/2019 17:42    1.0  4/25/2019 11:58  652.0  1361762.0   \n",
      "3  1.311448e+19   4/10/2019 0:31  486.0   4/25/2019 7:36  171.0  1321509.0   \n",
      "4  1.311448e+19  4/12/2019 20:10  565.0  4/25/2019 10:40  954.0  1089009.0   \n",
      "\n",
      "             6             7             8                      9   ...  \\\n",
      "0  2.082014e+14  3.366496e+10  3.552121e+13  9.16456699548519E+015  ...   \n",
      "1  2.082019e+14  3.368185e+10  3.579401e+13                L77566A  ...   \n",
      "2  2.082003e+14  3.376063e+10  3.528151e+13                D42335A  ...   \n",
      "3  2.082014e+14  3.375034e+10  3.535661e+13                T21824A  ...   \n",
      "4  2.082014e+14  3.369980e+10  3.540701e+13                D88865A  ...   \n",
      "\n",
      "           45          46          47          48           49          50  \\\n",
      "0  15854611.0   2501332.0   8198936.0   9656251.0  278082303.0  14344150.0   \n",
      "1  20247395.0  19111729.0  18338413.0  17227132.0  608750074.0   1170709.0   \n",
      "2  19725661.0  14699576.0  17587794.0   6163408.0  229584621.0    395630.0   \n",
      "3  21388122.0  15146643.0  13994646.0   1097942.0  799538153.0  10849722.0   \n",
      "4  15259380.0  18962873.0  17124581.0    415218.0  527707248.0   3529801.0   \n",
      "\n",
      "            51          52          53           54  \n",
      "0  171744450.0   8814393.0  36749741.0  308879636.0  \n",
      "1  526904238.0  15055145.0  53800391.0  653384965.0  \n",
      "2  410692588.0   4215763.0  27883638.0  279807335.0  \n",
      "3  749039933.0  12797283.0  43324218.0  846028530.0  \n",
      "4  550709500.0  13910322.0  38542814.0  569138589.0  \n",
      "\n",
      "[5 rows x 55 columns]\n"
     ]
    }
   ],
   "source": [
    "conn = connect_to_postgresql(host='localhost',port='5432',database='telecom', user='postgres', password='post@5432')\n",
    "#conn.connect()\n",
    "\n",
    "# Example query\n",
    "#query = \"SELECT * FROM xdr_data\"\n",
    "#result = conn.execute_query(query)\n",
    "\n",
    "# Convert the result to a Pandas DataFrame\n",
    "#df = pd.DataFrame(result, columns=[desc[0] for desc in conn.cursor.description])\n",
    "df = pd.DataFrame(read_data(conn))\n",
    "\n",
    "print(df.head())  # Display the first few rows of the DataFrame\n",
    "\n",
    "# Close the connection when done\n",
    "conn.close()\n"
   ]
  },
  {
   "cell_type": "code",
   "execution_count": 10,
   "metadata": {},
   "outputs": [
    {
     "name": "stdout",
     "output_type": "stream",
     "text": [
      "Your selected dataframe has 55 columns.\n",
      "There are 41 columns that have missing values.\n",
      "Missing Values in df:\n",
      "                                          Missing Values  % of Total Values  \\\n",
      "Nb of sec with 37500B < Vol UL                    130254               86.8   \n",
      "Nb of sec with 6250B < Vol UL < 37500B            111843               74.6   \n",
      "Nb of sec with 125000B < Vol DL                    97538               65.0   \n",
      "TCP UL Retrans. Vol (Bytes)                        96649               64.4   \n",
      "Nb of sec with 31250B < Vol DL < 125000B           93586               62.4   \n",
      "Nb of sec with 1250B < Vol UL < 6250B              92894               61.9   \n",
      "Nb of sec with 6250B < Vol DL < 31250B             88317               58.9   \n",
      "TCP DL Retrans. Vol (Bytes)                        88146               58.8   \n",
      "HTTP UL (Bytes)                                    81810               54.5   \n",
      "HTTP DL (Bytes)                                    81474               54.3   \n",
      "Avg RTT DL (ms)                                    27829               18.6   \n",
      "Avg RTT UL (ms)                                    27812               18.5   \n",
      "Last Location Name                                  1153                0.8   \n",
      "MSISDN/Number                                       1066                0.7   \n",
      "Bearer Id                                            991                0.7   \n",
      "Nb of sec with Vol UL < 1250B                        793                0.5   \n",
      "10 Kbps < UL TP < 50 Kbps (%)                        792                0.5   \n",
      "UL TP > 300 Kbps (%)                                 792                0.5   \n",
      "50 Kbps < UL TP < 300 Kbps (%)                       792                0.5   \n",
      "UL TP < 10 Kbps (%)                                  792                0.5   \n",
      "Nb of sec with Vol DL < 6250B                        755                0.5   \n",
      "250 Kbps < DL TP < 1 Mbps (%)                        754                0.5   \n",
      "50 Kbps < DL TP < 250 Kbps (%)                       754                0.5   \n",
      "DL TP < 50 Kbps (%)                                  754                0.5   \n",
      "DL TP > 1 Mbps (%)                                   754                0.5   \n",
      "Handset Type                                         572                0.4   \n",
      "Handset Manufacturer                                 572                0.4   \n",
      "IMEI                                                 572                0.4   \n",
      "IMSI                                                 570                0.4   \n",
      "Dur. (ms)                                              1                0.0   \n",
      "Total UL (Bytes)                                       1                0.0   \n",
      "Start ms                                               1                0.0   \n",
      "End                                                    1                0.0   \n",
      "End ms                                                 1                0.0   \n",
      "Start                                                  1                0.0   \n",
      "Avg Bearer TP DL (kbps)                                1                0.0   \n",
      "Dur. (ms).1                                            1                0.0   \n",
      "Activity Duration UL (ms)                              1                0.0   \n",
      "Activity Duration DL (ms)                              1                0.0   \n",
      "Avg Bearer TP UL (kbps)                                1                0.0   \n",
      "Total DL (Bytes)                                       1                0.0   \n",
      "\n",
      "                                            Dtype  \n",
      "Nb of sec with 37500B < Vol UL            float64  \n",
      "Nb of sec with 6250B < Vol UL < 37500B    float64  \n",
      "Nb of sec with 125000B < Vol DL           float64  \n",
      "TCP UL Retrans. Vol (Bytes)               float64  \n",
      "Nb of sec with 31250B < Vol DL < 125000B  float64  \n",
      "Nb of sec with 1250B < Vol UL < 6250B     float64  \n",
      "Nb of sec with 6250B < Vol DL < 31250B    float64  \n",
      "TCP DL Retrans. Vol (Bytes)               float64  \n",
      "HTTP UL (Bytes)                           float64  \n",
      "HTTP DL (Bytes)                           float64  \n",
      "Avg RTT DL (ms)                           float64  \n",
      "Avg RTT UL (ms)                           float64  \n",
      "Last Location Name                         object  \n",
      "MSISDN/Number                             float64  \n",
      "Bearer Id                                 float64  \n",
      "Nb of sec with Vol UL < 1250B             float64  \n",
      "10 Kbps < UL TP < 50 Kbps (%)             float64  \n",
      "UL TP > 300 Kbps (%)                      float64  \n",
      "50 Kbps < UL TP < 300 Kbps (%)            float64  \n",
      "UL TP < 10 Kbps (%)                       float64  \n",
      "Nb of sec with Vol DL < 6250B             float64  \n",
      "250 Kbps < DL TP < 1 Mbps (%)             float64  \n",
      "50 Kbps < DL TP < 250 Kbps (%)            float64  \n",
      "DL TP < 50 Kbps (%)                       float64  \n",
      "DL TP > 1 Mbps (%)                        float64  \n",
      "Handset Type                               object  \n",
      "Handset Manufacturer                       object  \n",
      "IMEI                                      float64  \n",
      "IMSI                                      float64  \n",
      "Dur. (ms)                                 float64  \n",
      "Total UL (Bytes)                          float64  \n",
      "Start ms                                  float64  \n",
      "End                                        object  \n",
      "End ms                                    float64  \n",
      "Start                                      object  \n",
      "Avg Bearer TP DL (kbps)                   float64  \n",
      "Dur. (ms).1                               float64  \n",
      "Activity Duration UL (ms)                 float64  \n",
      "Activity Duration DL (ms)                 float64  \n",
      "Avg Bearer TP UL (kbps)                   float64  \n",
      "Total DL (Bytes)                          float64  \n"
     ]
    }
   ],
   "source": [
    "missing_values_df = missing_values_table(df)\n",
    "print(\"Missing Values in df:\")\n",
    "print(missing_values_df)"
   ]
  },
  {
   "cell_type": "code",
   "execution_count": 30,
   "metadata": {},
   "outputs": [
    {
     "ename": "KeyError",
     "evalue": "'HTTP DL (Bytes)'",
     "output_type": "error",
     "traceback": [
      "\u001b[1;31m---------------------------------------------------------------------------\u001b[0m",
      "\u001b[1;31mKeyError\u001b[0m                                  Traceback (most recent call last)",
      "Cell \u001b[1;32mIn[30], line 1\u001b[0m\n\u001b[1;32m----> 1\u001b[0m df[\u001b[38;5;124m'\u001b[39m\u001b[38;5;124mx\u001b[39m\u001b[38;5;124m'\u001b[39m] \u001b[38;5;241m=\u001b[39m \u001b[43mconvert_bytes_to_megabytes\u001b[49m\u001b[43m(\u001b[49m\u001b[43mdf\u001b[49m\u001b[43m,\u001b[49m\u001b[43m \u001b[49m\u001b[38;5;124;43m'\u001b[39;49m\u001b[38;5;124;43mHTTP DL (Bytes)\u001b[39;49m\u001b[38;5;124;43m'\u001b[39;49m\u001b[43m)\u001b[49m\n\u001b[0;32m      3\u001b[0m \u001b[38;5;28mprint\u001b[39m(df)\n",
      "File \u001b[1;32mc:\\Users\\meet_\\Documents\\GitHub\\Telco-database\\src\\utils.py:49\u001b[0m, in \u001b[0;36mconvert_bytes_to_megabytes\u001b[1;34m(df, bytes_data)\u001b[0m\n\u001b[0;32m     47\u001b[0m \u001b[38;5;28;01mdef\u001b[39;00m \u001b[38;5;21mconvert_bytes_to_megabytes\u001b[39m(df, bytes_data):\n\u001b[0;32m     48\u001b[0m     megabyte \u001b[38;5;241m=\u001b[39m \u001b[38;5;241m1\u001b[39m \u001b[38;5;241m*\u001b[39m \u001b[38;5;241m10e+5\u001b[39m\n\u001b[1;32m---> 49\u001b[0m     df[bytes_data] \u001b[38;5;241m=\u001b[39m \u001b[43mdf\u001b[49m\u001b[43m[\u001b[49m\u001b[43mbytes_data\u001b[49m\u001b[43m]\u001b[49m \u001b[38;5;241m/\u001b[39m megabyte\n\u001b[0;32m     50\u001b[0m     \u001b[38;5;28;01mreturn\u001b[39;00m df[bytes_data]\n",
      "File \u001b[1;32mc:\\Users\\meet_\\AppData\\Local\\Programs\\Python\\Python312\\Lib\\site-packages\\pandas\\core\\frame.py:4102\u001b[0m, in \u001b[0;36mDataFrame.__getitem__\u001b[1;34m(self, key)\u001b[0m\n\u001b[0;32m   4100\u001b[0m \u001b[38;5;28;01mif\u001b[39;00m \u001b[38;5;28mself\u001b[39m\u001b[38;5;241m.\u001b[39mcolumns\u001b[38;5;241m.\u001b[39mnlevels \u001b[38;5;241m>\u001b[39m \u001b[38;5;241m1\u001b[39m:\n\u001b[0;32m   4101\u001b[0m     \u001b[38;5;28;01mreturn\u001b[39;00m \u001b[38;5;28mself\u001b[39m\u001b[38;5;241m.\u001b[39m_getitem_multilevel(key)\n\u001b[1;32m-> 4102\u001b[0m indexer \u001b[38;5;241m=\u001b[39m \u001b[38;5;28;43mself\u001b[39;49m\u001b[38;5;241;43m.\u001b[39;49m\u001b[43mcolumns\u001b[49m\u001b[38;5;241;43m.\u001b[39;49m\u001b[43mget_loc\u001b[49m\u001b[43m(\u001b[49m\u001b[43mkey\u001b[49m\u001b[43m)\u001b[49m\n\u001b[0;32m   4103\u001b[0m \u001b[38;5;28;01mif\u001b[39;00m is_integer(indexer):\n\u001b[0;32m   4104\u001b[0m     indexer \u001b[38;5;241m=\u001b[39m [indexer]\n",
      "File \u001b[1;32mc:\\Users\\meet_\\AppData\\Local\\Programs\\Python\\Python312\\Lib\\site-packages\\pandas\\core\\indexes\\range.py:417\u001b[0m, in \u001b[0;36mRangeIndex.get_loc\u001b[1;34m(self, key)\u001b[0m\n\u001b[0;32m    415\u001b[0m         \u001b[38;5;28;01mraise\u001b[39;00m \u001b[38;5;167;01mKeyError\u001b[39;00m(key) \u001b[38;5;28;01mfrom\u001b[39;00m \u001b[38;5;21;01merr\u001b[39;00m\n\u001b[0;32m    416\u001b[0m \u001b[38;5;28;01mif\u001b[39;00m \u001b[38;5;28misinstance\u001b[39m(key, Hashable):\n\u001b[1;32m--> 417\u001b[0m     \u001b[38;5;28;01mraise\u001b[39;00m \u001b[38;5;167;01mKeyError\u001b[39;00m(key)\n\u001b[0;32m    418\u001b[0m \u001b[38;5;28mself\u001b[39m\u001b[38;5;241m.\u001b[39m_check_indexing_error(key)\n\u001b[0;32m    419\u001b[0m \u001b[38;5;28;01mraise\u001b[39;00m \u001b[38;5;167;01mKeyError\u001b[39;00m(key)\n",
      "\u001b[1;31mKeyError\u001b[0m: 'HTTP DL (Bytes)'"
     ]
    }
   ],
   "source": [
    "df['x'] = convert_bytes_to_megabytes(df, 'HTTP DL (Bytes)')\n",
    "\n",
    "print(df)"
   ]
  },
  {
   "cell_type": "code",
   "execution_count": null,
   "metadata": {},
   "outputs": [],
   "source": []
  }
 ],
 "metadata": {
  "kernelspec": {
   "display_name": "Python 3",
   "language": "python",
   "name": "python3"
  },
  "language_info": {
   "codemirror_mode": {
    "name": "ipython",
    "version": 3
   },
   "file_extension": ".py",
   "mimetype": "text/x-python",
   "name": "python",
   "nbconvert_exporter": "python",
   "pygments_lexer": "ipython3",
   "version": "3.12.3"
  }
 },
 "nbformat": 4,
 "nbformat_minor": 2
}
